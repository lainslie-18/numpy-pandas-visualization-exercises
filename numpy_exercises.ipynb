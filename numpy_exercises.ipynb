{
 "cells": [
  {
   "cell_type": "markdown",
   "id": "546ace4b",
   "metadata": {},
   "source": [
    "<h2 id=\"exercises\">Exercises</h2>\n",
    "<p>In your <code>numpy-pandas-visualization-exercises</code> repo, create a file named <code>numpy_exercises.py</code> for this exercise.</p>\n",
    "<p>Use the following code for the questions below:</p>\n",
    "<div class=\"highlight\"><pre><span></span>a = np.array([4, 10, 12, 23, -2, -1, 0, 0, 0, -6, 3, -7])\n"
   ]
  },
  {
   "cell_type": "markdown",
   "id": "5de3487e",
   "metadata": {},
   "source": [
    "1. How many negative numbers are there?"
   ]
  },
  {
   "cell_type": "markdown",
   "id": "bc31bf88",
   "metadata": {},
   "source": [
    "\n",
    "2. How many positive numbers are there?"
   ]
  },
  {
   "cell_type": "markdown",
   "id": "a527cc12",
   "metadata": {},
   "source": [
    "3. How many even positive numbers are there?"
   ]
  },
  {
   "cell_type": "markdown",
   "id": "28f1a8c7",
   "metadata": {},
   "source": [
    "4. If you were to add 3 to each data point, how many positive numbers would\n",
    "   there be?"
   ]
  },
  {
   "cell_type": "markdown",
   "id": "00e2e7d2",
   "metadata": {},
   "source": [
    "5. If you squared each number, what would the new mean and standard deviation\n",
    "   be?"
   ]
  },
  {
   "cell_type": "markdown",
   "id": "918c22fa",
   "metadata": {},
   "source": [
    "6. A common statistical operation on a dataset is <strong>centering</strong>. This means to\n",
    "   adjust the data such that the mean of the data is 0. This is done by\n",
    "   subtracting the mean from each data point. Center the data set. See <a href=\"https://www.theanalysisfactor.com/centering-and-standardizing-predictors/\">this link</a> for more on centering."
   ]
  },
  {
   "cell_type": "markdown",
   "id": "54bad2c7",
   "metadata": {},
   "source": [
    "7. Calculate the z-score for each data point. Recall that the z-score is given\n",
    "   by:\n",
    "   \n",
    "Z = $\\frac{x - \\mu}{\\sigma}$"
   ]
  },
  {
   "cell_type": "markdown",
   "id": "e7894936",
   "metadata": {},
   "source": [
    "8. Copy the setup and exercise directions from <a href=\"https://gist.github.com/ryanorsinger/c4cf5a64ec33c014ff2e56951bc8a42d\">More Numpy Practice</a> into your <code>numpy_exercises.py</code> and add your solutions."
   ]
  },
  {
   "cell_type": "code",
   "execution_count": null,
   "id": "56bfdabb",
   "metadata": {},
   "outputs": [],
   "source": []
  }
 ],
 "metadata": {
  "kernelspec": {
   "display_name": "Python 3",
   "language": "python",
   "name": "python3"
  },
  "language_info": {
   "codemirror_mode": {
    "name": "ipython",
    "version": 3
   },
   "file_extension": ".py",
   "mimetype": "text/x-python",
   "name": "python",
   "nbconvert_exporter": "python",
   "pygments_lexer": "ipython3",
   "version": "3.8.8"
  }
 },
 "nbformat": 4,
 "nbformat_minor": 5
}
